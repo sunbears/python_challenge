{
 "cells": [
  {
   "cell_type": "code",
   "execution_count": 86,
   "metadata": {
    "collapsed": true
   },
   "outputs": [],
   "source": [
    "#HW#3 PyParagraph\n",
    "#Your task is to create a Python script to automate the analysis of any such passage using these metrics. \n",
    "\n",
    "#Dependencies\n",
    "import os\n",
    "import csv"
   ]
  },
  {
   "cell_type": "code",
   "execution_count": 87,
   "metadata": {},
   "outputs": [
    {
     "name": "stdout",
     "output_type": "stream",
     "text": [
      "Adam Wayne, the conqueror, with his face flung back and his mane like a lion's, stood with his great sword point upwards, the red raiment of his office flapping around him like the red wings of an archangel. And the King saw, he knew not how, something new and overwhelming. The great green trees and the great red robes swung together in the wind. The preposterous masquerade, born of his own mockery, towered over him and embraced the world. This was the normal, this was sanity, this was nature, and he himself, with his rationality, and his detachment and his black frock-coat, he was the exception and the accident - a blot of black upon a world of crimson and gold.\n"
     ]
    }
   ],
   "source": [
    "#Import a text file filled with a paragraph of your choosing.\n",
    "\n",
    "textpath = os.path.join(\"PyParagraphText.txt\")\n",
    "\n",
    "text = open(textpath, \"r\").read()\n",
    "\n",
    "print(text)"
   ]
  },
  {
   "cell_type": "code",
   "execution_count": 88,
   "metadata": {},
   "outputs": [
    {
     "name": "stdout",
     "output_type": "stream",
     "text": [
      "Approximate Word Count:  121\n"
     ]
    }
   ],
   "source": [
    "#Approximate word count\n",
    "\n",
    "words = text.split(\" \")\n",
    "word_count = len(words)\n",
    "\n",
    "#Commmas are included in the word which I don't want.\n",
    "#Remove Commas from words\n",
    "\n",
    "for z in words:\n",
    "    z=z.replace(',','')\n",
    "\n",
    "print('Approximate Word Count: ', word_count)"
   ]
  },
  {
   "cell_type": "code",
   "execution_count": 89,
   "metadata": {},
   "outputs": [],
   "source": [
    "#Approximate sentence count\n",
    "sentences = text.split(\".\")"
   ]
  },
  {
   "cell_type": "code",
   "execution_count": 90,
   "metadata": {},
   "outputs": [
    {
     "name": "stdout",
     "output_type": "stream",
     "text": [
      "[\"Adam Wayne, the conqueror, with his face flung back and his mane like a lion's, stood with his great sword point upwards, the red raiment of his office flapping around him like the red wings of an archangel\", ' And the King saw, he knew not how, something new and overwhelming', ' The great green trees and the great red robes swung together in the wind', ' The preposterous masquerade, born of his own mockery, towered over him and embraced the world', ' This was the normal, this was sanity, this was nature, and he himself, with his rationality, and his detachment and his black frock-coat, he was the exception and the accident - a blot of black upon a world of crimson and gold']\n"
     ]
    }
   ],
   "source": [
    "#The last string in the list is empty because the last period makes a split between two strings.\n",
    "#Remove last item in the sentences list because it's an empty string.\n",
    "del sentences[-1]\n",
    "print(sentences)"
   ]
  },
  {
   "cell_type": "code",
   "execution_count": 91,
   "metadata": {},
   "outputs": [
    {
     "name": "stdout",
     "output_type": "stream",
     "text": [
      "Approximate Sentence Count:  5\n"
     ]
    }
   ],
   "source": [
    "#Now we see that the last string that was empty has been dropped.\n",
    "#Calculate Approximate sentence count\n",
    "sentence_count = len(sentences)\n",
    "print('Approximate Sentence Count: ', sentence_count)"
   ]
  },
  {
   "cell_type": "code",
   "execution_count": 92,
   "metadata": {},
   "outputs": [
    {
     "name": "stdout",
     "output_type": "stream",
     "text": [
      "Average Letter Count:  4.553719008264463\n"
     ]
    }
   ],
   "source": [
    "#Approximate letter count (per word)\n",
    "\n",
    "word_length_list = []\n",
    "\n",
    "for x in words:\n",
    "    word_length_list.append(len(x))\n",
    "\n",
    "avg_word_length = sum(word_length_list)/word_count\n",
    "\n",
    "print('Average Letter Count: ', avg_word_length)"
   ]
  },
  {
   "cell_type": "code",
   "execution_count": 93,
   "metadata": {},
   "outputs": [
    {
     "name": "stdout",
     "output_type": "stream",
     "text": [
      "Average Sentence Length:  25.0\n"
     ]
    }
   ],
   "source": [
    "#Average sentence length (in words)\n",
    "\n",
    "sentence_length_list = []\n",
    "\n",
    "for y in sentences:\n",
    "    sentence_length_list.append(len(y.split(\" \")))\n",
    "\n",
    "avg_sentence_length = sum(sentence_length_list)/sentence_count\n",
    "\n",
    "print('Average Sentence Length: ', avg_sentence_length)"
   ]
  },
  {
   "cell_type": "code",
   "execution_count": 94,
   "metadata": {},
   "outputs": [
    {
     "name": "stdout",
     "output_type": "stream",
     "text": [
      "Paragraph Analysis\n",
      "------------------\n",
      "Approximage Word Count:  121\n",
      "Approximate Sentence Count:  5\n",
      "Average Letter Count:  4.553719008264463\n",
      "Average Sentence Length:  25.0\n"
     ]
    }
   ],
   "source": [
    "#Putting it all together\n",
    "print('Paragraph Analysis')\n",
    "print('------------------')\n",
    "print('Approximage Word Count: ', word_count)\n",
    "print('Approximate Sentence Count: ', sentence_count)\n",
    "print('Average Letter Count: ', avg_word_length)\n",
    "print('Average Sentence Length: ', avg_sentence_length)"
   ]
  }
 ],
 "metadata": {
  "kernelspec": {
   "display_name": "Python 3",
   "language": "python",
   "name": "python3"
  },
  "language_info": {
   "codemirror_mode": {
    "name": "ipython",
    "version": 3
   },
   "file_extension": ".py",
   "mimetype": "text/x-python",
   "name": "python",
   "nbconvert_exporter": "python",
   "pygments_lexer": "ipython3",
   "version": "3.6.2"
  }
 },
 "nbformat": 4,
 "nbformat_minor": 2
}
