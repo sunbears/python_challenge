{
 "cells": [
  {
   "cell_type": "code",
   "execution_count": null,
   "metadata": {
    "collapsed": true
   },
   "outputs": [],
   "source": [
    "# Homework #3 PyPoll\n",
    "\n",
    "#You will be given two sets of poll data (election_data_1.csv and election_data_2.csv). \n",
    "#Each dataset is composed of three columns: Voter ID, County, and Candidate.\n",
    "# Import the os module\n",
    "# This will allow us to create file paths across operating systems\n",
    "\n",
    "import os\n",
    "import csv\n",
    "\n",
    "#Load election_data_1\n",
    "csvpath1 = os.path.join(\"election_data_1.csv\")\n",
    "\n",
    "# Lists to store data\n",
    "voter_id = []\n",
    "county = []\n",
    "candidate = []\n",
    "nrows = 0\n",
    "\n",
    "with open(csvpath1, 'r') as csvfile1:\n",
    "    \n",
    "    csvreader1 = csv.reader(csvfile1, delimiter=',')\n",
    "\n",
    "    next(csvreader1, None)\n",
    "    \n",
    "    for row in csvreader1:\n",
    "        voter_id.append(row[0])\n",
    "        county.append(row[1])\n",
    "        candidate.append(row[2])\n",
    "        nrows = nrows + 1"
   ]
  },
  {
   "cell_type": "code",
   "execution_count": null,
   "metadata": {
    "collapsed": true
   },
   "outputs": [],
   "source": [
    "#Load election_data_2\n",
    "\n",
    "csvpath2 = os.path.join(\"election_data_2.csv\")\n",
    "\n",
    "with open(csvpath2, 'r') as csvfile2:\n",
    "    \n",
    "    csvreader2 = csv.reader(csvfile2, delimiter=',')\n",
    "\n",
    "    next(csvreader2, None)\n",
    "    \n",
    "    for row in csvreader2:\n",
    "        voter_id.append(row[0])\n",
    "        county.append(row[1])\n",
    "        candidate.append(row[2])\n",
    "        nrows = nrows + 1\n"
   ]
  },
  {
   "cell_type": "code",
   "execution_count": null,
   "metadata": {
    "collapsed": true
   },
   "outputs": [],
   "source": [
    "#Identify candidates\n",
    "candidate_name = list(set(candidate))\n",
    "print(candidate_name)"
   ]
  },
  {
   "cell_type": "code",
   "execution_count": null,
   "metadata": {
    "collapsed": true
   },
   "outputs": [],
   "source": [
    "#The total number of votes each candidate won.\n",
    "total_dict = {x:candidate.count(x) for x in candidate}\n",
    "total_list = list(total_dict.values())\n",
    "print(total_list)"
   ]
  },
  {
   "cell_type": "code",
   "execution_count": null,
   "metadata": {
    "collapsed": true
   },
   "outputs": [],
   "source": [
    "#Identify Winner\n",
    "winner_count = max(total_list)\n",
    "winner_index = total_list.index(winner_count)\n",
    "winner_name = candidate_name[winner_index]\n",
    "print(winner_name)"
   ]
  },
  {
   "cell_type": "code",
   "execution_count": null,
   "metadata": {
    "collapsed": true
   },
   "outputs": [],
   "source": [
    "#The percentage of votes each candidate won.\n",
    "percent_dict = {x:(candidate.count(x)/nrows) for x in candidate}\n",
    "percent_list = list(percent_dict.values())\n",
    "print(percent_list)"
   ]
  },
  {
   "cell_type": "code",
   "execution_count": null,
   "metadata": {
    "collapsed": true
   },
   "outputs": [],
   "source": [
    "# Zip lists together\n",
    "summary = zip(candidate_name, total_list, percent_list)\n",
    "summary_list = list(summary)\n",
    "print(summary_list)"
   ]
  },
  {
   "cell_type": "code",
   "execution_count": null,
   "metadata": {
    "collapsed": true
   },
   "outputs": [],
   "source": [
    "#Putting it all together\n",
    "\n",
    "print('Election Results')\n",
    "print(\"---------------------\")\n",
    "print('Total votes:', nrows)\n",
    "print(\"---------------------\")\n",
    "\n",
    "for item in summary_list:\n",
    "    print(item)\n",
    "\n",
    "print(\"---------------------\")\n",
    "print('Winner: ', winner_name)\n",
    "print(\"---------------------\")\n",
    "\n",
    "\n"
   ]
  },
  {
   "cell_type": "code",
   "execution_count": null,
   "metadata": {
    "collapsed": true
   },
   "outputs": [],
   "source": [
    "# Set variable for output file\n",
    "output_file = os.path.join(\"pypoll_final3.csv\")\n",
    "\n",
    "#  Open the output file\n",
    "with open(output_file, \"w\", newline=\"\") as datafile:\n",
    "    writer = csv.writer(datafile)\n",
    "    \n",
    "    # Write the header row\n",
    "    writer.writerow([\"Candidate\", \"Count\", \"Percent\"])\n",
    "    \n",
    "    # Write in zipped rows\n",
    "    writer.writerows(summary_list)"
   ]
  }
 ],
 "metadata": {
  "kernelspec": {
   "display_name": "Python 3",
   "language": "python",
   "name": "python3"
  },
  "language_info": {
   "codemirror_mode": {
    "name": "ipython",
    "version": 3
   },
   "file_extension": ".py",
   "mimetype": "text/x-python",
   "name": "python",
   "nbconvert_exporter": "python",
   "pygments_lexer": "ipython3",
   "version": "3.6.2"
  }
 },
 "nbformat": 4,
 "nbformat_minor": 2
}
